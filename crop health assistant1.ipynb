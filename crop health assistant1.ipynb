{
 "cells": [
  {
   "cell_type": "code",
   "execution_count": 1,
   "metadata": {},
   "outputs": [
    {
     "name": "stderr",
     "output_type": "stream",
     "text": [
      "Using TensorFlow backend.\n"
     ]
    }
   ],
   "source": [
    "import keras\n",
    "from keras.models import Sequential\n",
    "from keras.layers import Dense,Conv2D,MaxPooling2D,Flatten"
   ]
  },
  {
   "cell_type": "code",
   "execution_count": 2,
   "metadata": {},
   "outputs": [],
   "source": [
    "model_cnn=Sequential()"
   ]
  },
  {
   "cell_type": "code",
   "execution_count": 3,
   "metadata": {},
   "outputs": [
    {
     "name": "stdout",
     "output_type": "stream",
     "text": [
      "WARNING:tensorflow:From C:\\Users\\HOME\\Anaconda3\\lib\\site-packages\\tensorflow\\python\\framework\\op_def_library.py:263: colocate_with (from tensorflow.python.framework.ops) is deprecated and will be removed in a future version.\n",
      "Instructions for updating:\n",
      "Colocations handled automatically by placer.\n"
     ]
    },
    {
     "name": "stderr",
     "output_type": "stream",
     "text": [
      "C:\\Users\\HOME\\Anaconda3\\lib\\site-packages\\ipykernel_launcher.py:1: UserWarning: Update your `Conv2D` call to the Keras 2 API: `Conv2D(32, (3, 3), input_shape=(64, 64, 3..., activation=\"relu\")`\n",
      "  \"\"\"Entry point for launching an IPython kernel.\n"
     ]
    }
   ],
   "source": [
    "model_cnn.add(Conv2D(32,3,3,input_shape=(64,64,3),activation='relu'))"
   ]
  },
  {
   "cell_type": "code",
   "execution_count": 4,
   "metadata": {},
   "outputs": [],
   "source": [
    "model_cnn.add(MaxPooling2D(pool_size=(2,2)))"
   ]
  },
  {
   "cell_type": "code",
   "execution_count": 5,
   "metadata": {},
   "outputs": [],
   "source": [
    "model_cnn.add(Flatten())"
   ]
  },
  {
   "cell_type": "markdown",
   "metadata": {},
   "source": [
    "# hidden layer"
   ]
  },
  {
   "cell_type": "code",
   "execution_count": 6,
   "metadata": {},
   "outputs": [],
   "source": [
    "model_cnn.add(Dense(100,activation='relu'))"
   ]
  },
  {
   "cell_type": "markdown",
   "metadata": {},
   "source": [
    "# output layer"
   ]
  },
  {
   "cell_type": "code",
   "execution_count": 7,
   "metadata": {},
   "outputs": [],
   "source": [
    "model_cnn.add(Dense(6,activation='softmax'))"
   ]
  },
  {
   "cell_type": "markdown",
   "metadata": {},
   "source": [
    "# compile"
   ]
  },
  {
   "cell_type": "code",
   "execution_count": 8,
   "metadata": {},
   "outputs": [],
   "source": [
    "model_cnn.compile(optimizer='adam',loss='categorical_crossentropy',metrics=['accuracy'])"
   ]
  },
  {
   "cell_type": "code",
   "execution_count": 9,
   "metadata": {},
   "outputs": [],
   "source": [
    "from keras.preprocessing.image import ImageDataGenerator\n",
    "train_datagen=ImageDataGenerator(rescale=1./255,shear_range=0.2,zoom_range=0.2,horizontal_flip=True)"
   ]
  },
  {
   "cell_type": "code",
   "execution_count": 10,
   "metadata": {},
   "outputs": [],
   "source": [
    "test_datagen=ImageDataGenerator(rescale=1./255)"
   ]
  },
  {
   "cell_type": "code",
   "execution_count": 11,
   "metadata": {},
   "outputs": [
    {
     "name": "stdout",
     "output_type": "stream",
     "text": [
      "Found 493 images belonging to 6 classes.\n"
     ]
    }
   ],
   "source": [
    "x_train=train_datagen.flow_from_directory(r\"E:\\python\\trainingset\",target_size=(64,64),batch_size=32,class_mode='categorical')"
   ]
  },
  {
   "cell_type": "code",
   "execution_count": 12,
   "metadata": {},
   "outputs": [
    {
     "name": "stdout",
     "output_type": "stream",
     "text": [
      "Found 116 images belonging to 6 classes.\n"
     ]
    }
   ],
   "source": [
    "x_test=test_datagen.flow_from_directory(r\"E:\\python\\test set\",target_size=(64,64),batch_size=32,class_mode='categorical')"
   ]
  },
  {
   "cell_type": "code",
   "execution_count": 13,
   "metadata": {},
   "outputs": [
    {
     "data": {
      "text/plain": [
       "{'bacterial leaf blight': 0,\n",
       " 'blast': 1,\n",
       " 'false smut': 2,\n",
       " 'normal': 3,\n",
       " 'rice tungro': 4,\n",
       " 'sheath blight': 5}"
      ]
     },
     "execution_count": 13,
     "metadata": {},
     "output_type": "execute_result"
    }
   ],
   "source": [
    "x_train.class_indices"
   ]
  },
  {
   "cell_type": "code",
   "execution_count": 14,
   "metadata": {},
   "outputs": [
    {
     "data": {
      "text/plain": [
       "{'bacterial leaf blight': 0,\n",
       " 'blast': 1,\n",
       " 'false smut': 2,\n",
       " 'normal': 3,\n",
       " 'rice tungro': 4,\n",
       " 'sheath blight': 5}"
      ]
     },
     "execution_count": 14,
     "metadata": {},
     "output_type": "execute_result"
    }
   ],
   "source": [
    "x_test.class_indices"
   ]
  },
  {
   "cell_type": "code",
   "execution_count": 15,
   "metadata": {
    "scrolled": false
   },
   "outputs": [
    {
     "name": "stdout",
     "output_type": "stream",
     "text": [
      "WARNING:tensorflow:From C:\\Users\\HOME\\Anaconda3\\lib\\site-packages\\tensorflow\\python\\ops\\math_ops.py:3066: to_int32 (from tensorflow.python.ops.math_ops) is deprecated and will be removed in a future version.\n",
      "Instructions for updating:\n",
      "Use tf.cast instead.\n"
     ]
    },
    {
     "name": "stderr",
     "output_type": "stream",
     "text": [
      "C:\\Users\\HOME\\Anaconda3\\lib\\site-packages\\ipykernel_launcher.py:1: UserWarning: The semantics of the Keras 2 argument `steps_per_epoch` is not the same as the Keras 1 argument `samples_per_epoch`. `steps_per_epoch` is the number of batches to draw from the generator at each epoch. Basically steps_per_epoch = samples_per_epoch/batch_size. Similarly `nb_val_samples`->`validation_steps` and `val_samples`->`steps` arguments have changed. Update your method calls accordingly.\n",
      "  \"\"\"Entry point for launching an IPython kernel.\n",
      "C:\\Users\\HOME\\Anaconda3\\lib\\site-packages\\ipykernel_launcher.py:1: UserWarning: Update your `fit_generator` call to the Keras 2 API: `fit_generator(<keras_pre..., epochs=25, validation_data=<keras_pre..., steps_per_epoch=15, validation_steps=116)`\n",
      "  \"\"\"Entry point for launching an IPython kernel.\n"
     ]
    },
    {
     "name": "stdout",
     "output_type": "stream",
     "text": [
      "Epoch 1/25\n",
      "15/15 [==============================] - 70s 5s/step - loss: 2.2219 - acc: 0.1833 - val_loss: 1.7570 - val_acc: 0.2155\n",
      "Epoch 2/25\n",
      "15/15 [==============================] - 69s 5s/step - loss: 1.7028 - acc: 0.2341 - val_loss: 1.8215 - val_acc: 0.2155\n",
      "Epoch 3/25\n",
      "15/15 [==============================] - 71s 5s/step - loss: 1.6403 - acc: 0.3297 - val_loss: 1.8407 - val_acc: 0.2069\n",
      "Epoch 4/25\n",
      "15/15 [==============================] - 70s 5s/step - loss: 1.5869 - acc: 0.3724 - val_loss: 1.7587 - val_acc: 0.2672\n",
      "Epoch 5/25\n",
      "15/15 [==============================] - 70s 5s/step - loss: 1.4585 - acc: 0.4774 - val_loss: 1.7236 - val_acc: 0.2672\n",
      "Epoch 6/25\n",
      "15/15 [==============================] - 72s 5s/step - loss: 1.4584 - acc: 0.3879 - val_loss: 1.7228 - val_acc: 0.2931\n",
      "Epoch 7/25\n",
      "15/15 [==============================] - 72s 5s/step - loss: 1.4335 - acc: 0.4558 - val_loss: 1.6918 - val_acc: 0.3017\n",
      "Epoch 8/25\n",
      "15/15 [==============================] - 77s 5s/step - loss: 1.3119 - acc: 0.5532 - val_loss: 1.6953 - val_acc: 0.3017\n",
      "Epoch 9/25\n",
      "15/15 [==============================] - 74s 5s/step - loss: 1.3210 - acc: 0.5218 - val_loss: 1.7884 - val_acc: 0.3190\n",
      "Epoch 10/25\n",
      "15/15 [==============================] - 76s 5s/step - loss: 1.2841 - acc: 0.5281 - val_loss: 1.8508 - val_acc: 0.3103\n",
      "Epoch 11/25\n",
      "15/15 [==============================] - 73s 5s/step - loss: 1.2378 - acc: 0.5393 - val_loss: 1.6681 - val_acc: 0.3534\n",
      "Epoch 12/25\n",
      "15/15 [==============================] - 74s 5s/step - loss: 1.2015 - acc: 0.5944 - val_loss: 1.8223 - val_acc: 0.3103\n",
      "Epoch 13/25\n",
      "15/15 [==============================] - 75s 5s/step - loss: 1.1411 - acc: 0.5828 - val_loss: 2.0477 - val_acc: 0.3621\n",
      "Epoch 14/25\n",
      "15/15 [==============================] - 77s 5s/step - loss: 1.0885 - acc: 0.6544 - val_loss: 1.6194 - val_acc: 0.3879\n",
      "Epoch 15/25\n",
      "15/15 [==============================] - 77s 5s/step - loss: 1.0734 - acc: 0.6244 - val_loss: 1.9919 - val_acc: 0.3276\n",
      "Epoch 16/25\n",
      "15/15 [==============================] - 6663s 444s/step - loss: 1.0673 - acc: 0.6447 - val_loss: 1.7608 - val_acc: 0.3707\n",
      "Epoch 17/25\n",
      "15/15 [==============================] - 73s 5s/step - loss: 1.0142 - acc: 0.6229 - val_loss: 1.7756 - val_acc: 0.3707\n",
      "Epoch 18/25\n",
      "15/15 [==============================] - 73s 5s/step - loss: 0.9473 - acc: 0.7040 - val_loss: 2.2445 - val_acc: 0.3276\n",
      "Epoch 19/25\n",
      "15/15 [==============================] - 71s 5s/step - loss: 0.8955 - acc: 0.6901 - val_loss: 1.9102 - val_acc: 0.4052\n",
      "Epoch 20/25\n",
      "15/15 [==============================] - 73s 5s/step - loss: 0.9700 - acc: 0.6662 - val_loss: 1.9655 - val_acc: 0.3621\n",
      "Epoch 21/25\n",
      "15/15 [==============================] - 76s 5s/step - loss: 0.8516 - acc: 0.7387 - val_loss: 1.9769 - val_acc: 0.3707\n",
      "Epoch 22/25\n",
      "15/15 [==============================] - 74s 5s/step - loss: 0.9384 - acc: 0.6664 - val_loss: 1.7647 - val_acc: 0.3966\n",
      "Epoch 23/25\n",
      "15/15 [==============================] - 74s 5s/step - loss: 0.8230 - acc: 0.7311 - val_loss: 1.9670 - val_acc: 0.3793\n",
      "Epoch 24/25\n",
      "15/15 [==============================] - 73s 5s/step - loss: 0.8152 - acc: 0.7381 - val_loss: 1.9440 - val_acc: 0.3879\n",
      "Epoch 25/25\n",
      "15/15 [==============================] - 73s 5s/step - loss: 0.7449 - acc: 0.7512 - val_loss: 1.8340 - val_acc: 0.4655\n"
     ]
    },
    {
     "data": {
      "text/plain": [
       "<keras.callbacks.History at 0x30a9d27940>"
      ]
     },
     "execution_count": 15,
     "metadata": {},
     "output_type": "execute_result"
    }
   ],
   "source": [
    "model_cnn.fit_generator(x_train,samples_per_epoch=493,epochs=25,validation_data=x_test,nb_val_samples=116)"
   ]
  },
  {
   "cell_type": "code",
   "execution_count": 18,
   "metadata": {},
   "outputs": [],
   "source": [
    "model_cnn.save(\"crop helath assistant1.h5\")"
   ]
  },
  {
   "cell_type": "code",
   "execution_count": null,
   "metadata": {},
   "outputs": [],
   "source": []
  }
 ],
 "metadata": {
  "kernelspec": {
   "display_name": "Python 3",
   "language": "python",
   "name": "python3"
  },
  "language_info": {
   "codemirror_mode": {
    "name": "ipython",
    "version": 3
   },
   "file_extension": ".py",
   "mimetype": "text/x-python",
   "name": "python",
   "nbconvert_exporter": "python",
   "pygments_lexer": "ipython3",
   "version": "3.7.1"
  }
 },
 "nbformat": 4,
 "nbformat_minor": 2
}
